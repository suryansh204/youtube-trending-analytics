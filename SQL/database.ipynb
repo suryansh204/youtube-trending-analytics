{
 "cells": [
  {
   "cell_type": "code",
   "execution_count": 27,
   "id": "df2e7122-48a4-444d-b958-04cbf8da2302",
   "metadata": {},
   "outputs": [],
   "source": [
    "import pandas as pd\n",
    "import sqlite3\n",
    "\n",
    "# Load your cleaned CSV\n",
    "df = pd.read_csv('../Data/clean/cleaned_youtube_trending.csv')\n",
    "\n",
    "\n",
    "# Connect to SQLite database (or create it)\n",
    "conn = sqlite3.connect(\"../Data/youtube_trending.db\")\n",
    "cursor = conn.cursor()"
   ]
  },
  {
   "cell_type": "code",
   "execution_count": 31,
   "id": "53b1a482-f02f-4fd1-95b1-4eb86dee2d5f",
   "metadata": {},
   "outputs": [],
   "source": [
    "cursor.execute(\"DROP TABLE IF EXISTS videos;\")\n",
    "cursor.execute(\"DROP TABLE IF EXISTS categories;\")\n",
    "\n",
    "#category table\n",
    "cursor.execute(\"\"\"\n",
    "    CREATE TABLE categories (\n",
    "        category_id INTEGER PRIMARY KEY,\n",
    "        category_name TEXT\n",
    "    );\n",
    "\"\"\")\n",
    "\n",
    "#video table\n",
    "cursor.execute(\"\"\"\n",
    "    CREATE TABLE videos (\n",
    "        video_id TEXT,\n",
    "        title TEXT,\n",
    "        channel_title TEXT,\n",
    "        category_id INTEGER,\n",
    "        publish_time TEXT,\n",
    "        views INTEGER,\n",
    "        likes INTEGER,\n",
    "        dislikes INTEGER,\n",
    "        comment_count INTEGER,\n",
    "        country TEXT,\n",
    "        tags TEXT,\n",
    "        FOREIGN KEY (category_id) REFERENCES categories(category_id)\n",
    "    );\n",
    "\"\"\")\n",
    "\n",
    "# Inserting data\n",
    "\n",
    "columns_in_sql = [\n",
    "    'video_id', 'title', 'channel_title', 'category_id', 'publish_time',\n",
    "    'views', 'likes', 'dislikes', 'comment_count', 'country', 'tags'\n",
    "]\n",
    "video_df = df[columns_in_sql]\n",
    "video_df.to_sql(\"videos\", conn, if_exists=\"append\", index=False)\n",
    "\n",
    "\n",
    "\n",
    "conn.commit()\n",
    "conn.close()"
   ]
  },
  {
   "cell_type": "code",
   "execution_count": null,
   "id": "7a26a734-65da-4b6d-b675-037955d2fd9d",
   "metadata": {},
   "outputs": [],
   "source": []
  }
 ],
 "metadata": {
  "kernelspec": {
   "display_name": "Python 3 (ipykernel)",
   "language": "python",
   "name": "python3"
  },
  "language_info": {
   "codemirror_mode": {
    "name": "ipython",
    "version": 3
   },
   "file_extension": ".py",
   "mimetype": "text/x-python",
   "name": "python",
   "nbconvert_exporter": "python",
   "pygments_lexer": "ipython3",
   "version": "3.10.1"
  }
 },
 "nbformat": 4,
 "nbformat_minor": 5
}
