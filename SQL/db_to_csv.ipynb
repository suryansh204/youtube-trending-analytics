{
 "cells": [
  {
   "cell_type": "code",
   "execution_count": 14,
   "id": "d72ce06c-2c09-4e27-b545-dae0ca9beb8a",
   "metadata": {},
   "outputs": [
    {
     "name": "stdout",
     "output_type": "stream",
     "text": [
      "Videos rows: 152946\n",
      "Exported both files successfully!\n"
     ]
    }
   ],
   "source": [
    "import sqlite3\n",
    "import pandas as pd\n",
    "import os\n",
    "\n",
    "db_path = \"../Data/youtube_trending.db\"\n",
    "assert os.path.exists(db_path), f\"Database not found at {db_path}\"\n",
    "\n",
    "conn = sqlite3.connect(db_path)\n",
    "\n",
    "videos_df = pd.read_sql_query(\"SELECT * FROM videos\", conn)\n",
    "categories_df = pd.read_sql_query(\"SELECT * FROM categories\", conn)\n",
    "\n",
    "\n",
    "print(\"Videos rows:\", len(videos_df))\n",
    "\n",
    "# Export to CSV\n",
    "videos_df.to_csv(\"../Data/videos.csv\", index=False)\n",
    "categories_df.to_csv(\"../Data/categories.csv\", index=False)\n",
    "\n",
    "conn.close()\n",
    "print(\"Exported both files successfully!\")\n"
   ]
  },
  {
   "cell_type": "code",
   "execution_count": null,
   "id": "27d67955-5a0d-4e28-a83a-bcc08376a8e9",
   "metadata": {},
   "outputs": [],
   "source": []
  }
 ],
 "metadata": {
  "kernelspec": {
   "display_name": "Python 3 (ipykernel)",
   "language": "python",
   "name": "python3"
  },
  "language_info": {
   "codemirror_mode": {
    "name": "ipython",
    "version": 3
   },
   "file_extension": ".py",
   "mimetype": "text/x-python",
   "name": "python",
   "nbconvert_exporter": "python",
   "pygments_lexer": "ipython3",
   "version": "3.10.1"
  }
 },
 "nbformat": 4,
 "nbformat_minor": 5
}
