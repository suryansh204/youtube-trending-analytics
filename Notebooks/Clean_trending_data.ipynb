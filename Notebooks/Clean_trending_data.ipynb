{
 "cells": [
  {
   "cell_type": "code",
   "execution_count": 27,
   "id": "1447de32-751c-45b9-9dab-a2177b6a98a1",
   "metadata": {},
   "outputs": [],
   "source": [
    "import pandas as pd\n",
    "import os"
   ]
  },
  {
   "cell_type": "code",
   "execution_count": 31,
   "id": "235a7707-1afc-4fba-be97-db8b0a1aee21",
   "metadata": {},
   "outputs": [],
   "source": [
    "data_path = '../Data/Raw'\n",
    "files = ['CAvideos.csv','FRvideos.csv','INvideos.csv', 'USvideos.csv']"
   ]
  },
  {
   "cell_type": "code",
   "execution_count": 32,
   "id": "6efdf411-b24e-4e25-842f-cf5b81a43fd9",
   "metadata": {},
   "outputs": [],
   "source": [
    "def load_and_clean(file_name, country_code):\n",
    "    df = pd.read_csv(file_name)\n",
    "    df['country'] = country_code\n",
    "\n",
    "    df['trending_date']= pd.to_datetime(df['trending_date'], format ='%y.%d.%m', errors='coerce')\n",
    "    df['publish_time'] = pd.to_datetime(df['publish_time'])\n",
    "\n",
    "    df.drop_duplicates(subset=['video_id', 'trending_date'], inplace = True)\n",
    "    df.drop_duplicates(subset=['publish_time', 'trending_date'], inplace = True)\n",
    "\n",
    "    return df\n",
    "\n",
    "\n",
    "combined_df = pd.DataFrame()\n",
    "for file in files:\n",
    "    country = file[:2]\n",
    "    full_path = os.path.join(data_path, file)\n",
    "    df = load_and_clean(full_path, country)\n",
    "    combined_df = pd.concat([combined_df, df], ignore_index=True)"
   ]
  },
  {
   "cell_type": "code",
   "execution_count": 33,
   "id": "a41efa15-c9f7-47ca-b639-ffb8f28ca082",
   "metadata": {},
   "outputs": [
    {
     "name": "stdout",
     "output_type": "stream",
     "text": [
      "Combined data shape: (151880, 17)\n"
     ]
    },
    {
     "data": {
      "text/plain": [
       "array(['CA', 'FR', 'IN', 'US'], dtype=object)"
      ]
     },
     "execution_count": 33,
     "metadata": {},
     "output_type": "execute_result"
    }
   ],
   "source": [
    "print(\"Combined data shape:\", combined_df.shape)\n",
    "combined_df.head()\n",
    "pd.unique(combined_df.country)"
   ]
  },
  {
   "cell_type": "code",
   "execution_count": 34,
   "id": "ef3a6793-4db0-46ae-80db-e09f8b1071d1",
   "metadata": {},
   "outputs": [
    {
     "name": "stdout",
     "output_type": "stream",
     "text": [
      "Cleaned file saved to: ../Data/clean\n"
     ]
    }
   ],
   "source": [
    "output_path = '../Data/clean'\n",
    "os.makedirs(output_path, exist_ok=True)\n",
    "combined_df.to_csv(os.path.join(output_path, 'cleaned_youtube_trending.csv'), index=False)\n",
    "\n",
    "print(\"Cleaned file saved to:\", output_path)"
   ]
  },
  {
   "cell_type": "code",
   "execution_count": null,
   "id": "6a4445c3-1c77-4948-9587-4cc3ecb36b9f",
   "metadata": {},
   "outputs": [],
   "source": []
  }
 ],
 "metadata": {
  "kernelspec": {
   "display_name": "Python 3 (ipykernel)",
   "language": "python",
   "name": "python3"
  },
  "language_info": {
   "codemirror_mode": {
    "name": "ipython",
    "version": 3
   },
   "file_extension": ".py",
   "mimetype": "text/x-python",
   "name": "python",
   "nbconvert_exporter": "python",
   "pygments_lexer": "ipython3",
   "version": "3.10.1"
  }
 },
 "nbformat": 4,
 "nbformat_minor": 5
}
